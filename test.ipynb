{
 "cells": [
  {
   "cell_type": "code",
   "execution_count": 1,
   "metadata": {},
   "outputs": [
    {
     "name": "stderr",
     "output_type": "stream",
     "text": [
      "C:\\Users\\akondep1\\AppData\\Local\\Temp\\ipykernel_12948\\2497183467.py:8: UserWarning: 1Torch was not compiled with flash attention. (Triggered internally at ..\\aten\\src\\ATen\\native\\transformers\\cuda\\sdp_utils.cpp:455.)\n",
      "  F.scaled_dot_product_attention(query, key, value)\n"
     ]
    },
    {
     "data": {
      "text/plain": [
       "tensor([[[ 0.2355,  0.5447, -0.0932, -0.5203, -0.6938, -0.5942, -0.6848,\n",
       "           0.6890],\n",
       "         [-0.1897, -0.0927, -0.1159, -0.3900, -0.6743, -0.6789, -0.2762,\n",
       "           0.1164],\n",
       "         [ 0.1302,  0.3436, -0.1164, -0.3942, -0.7350, -0.4940, -0.3203,\n",
       "           0.3466]],\n",
       "\n",
       "        [[ 0.5944,  1.9569,  0.7181, -0.1673, -1.0593, -0.5282,  0.1197,\n",
       "          -0.3837],\n",
       "         [-0.1508, -0.1070,  1.0022, -1.7022, -0.3572, -1.3536,  0.4957,\n",
       "           1.5390],\n",
       "         [ 0.0925,  0.9243,  0.6477, -0.6634, -0.6292, -1.1372,  0.3168,\n",
       "           0.3653]]], device='cuda:0')"
      ]
     },
     "execution_count": 1,
     "metadata": {},
     "output_type": "execute_result"
    }
   ],
   "source": [
    "import torch\n",
    "import torch.nn as nn\n",
    "import torch.nn.functional as F\n",
    "device = \"cuda\" if torch.cuda.is_available() else \"cpu\"\n",
    "\n",
    "# Example Usage:\n",
    "query, key, value = torch.randn(2, 3, 8, device=device), torch.randn(2, 3, 8, device=device), torch.randn(2, 3, 8, device=device)\n",
    "F.scaled_dot_product_attention(query, key, value)"
   ]
  }
 ],
 "metadata": {
  "kernelspec": {
   "display_name": "Python 3",
   "language": "python",
   "name": "python3"
  },
  "language_info": {
   "codemirror_mode": {
    "name": "ipython",
    "version": 3
   },
   "file_extension": ".py",
   "mimetype": "text/x-python",
   "name": "python",
   "nbconvert_exporter": "python",
   "pygments_lexer": "ipython3",
   "version": "3.12.4"
  }
 },
 "nbformat": 4,
 "nbformat_minor": 2
}
