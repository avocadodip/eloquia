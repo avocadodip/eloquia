{
 "cells": [
  {
   "cell_type": "code",
   "execution_count": 1,
   "metadata": {},
   "outputs": [],
   "source": [
    "import pandas as pd"
   ]
  },
  {
   "cell_type": "code",
   "execution_count": 2,
   "metadata": {},
   "outputs": [
    {
     "data": {
      "text/html": [
       "<div>\n",
       "<style scoped>\n",
       "    .dataframe tbody tr th:only-of-type {\n",
       "        vertical-align: middle;\n",
       "    }\n",
       "\n",
       "    .dataframe tbody tr th {\n",
       "        vertical-align: top;\n",
       "    }\n",
       "\n",
       "    .dataframe thead th {\n",
       "        text-align: right;\n",
       "    }\n",
       "</style>\n",
       "<table border=\"1\" class=\"dataframe\">\n",
       "  <thead>\n",
       "    <tr style=\"text-align: right;\">\n",
       "      <th></th>\n",
       "      <th>Show</th>\n",
       "      <th>EpId</th>\n",
       "      <th>ClipId</th>\n",
       "      <th>y</th>\n",
       "    </tr>\n",
       "  </thead>\n",
       "  <tbody>\n",
       "    <tr>\n",
       "      <th>0</th>\n",
       "      <td>FluencyBank</td>\n",
       "      <td>010</td>\n",
       "      <td>1</td>\n",
       "      <td>NoStutteredWords</td>\n",
       "    </tr>\n",
       "    <tr>\n",
       "      <th>1</th>\n",
       "      <td>FluencyBank</td>\n",
       "      <td>010</td>\n",
       "      <td>4</td>\n",
       "      <td>Rep</td>\n",
       "    </tr>\n",
       "    <tr>\n",
       "      <th>2</th>\n",
       "      <td>FluencyBank</td>\n",
       "      <td>010</td>\n",
       "      <td>6</td>\n",
       "      <td>NoStutteredWords</td>\n",
       "    </tr>\n",
       "    <tr>\n",
       "      <th>3</th>\n",
       "      <td>FluencyBank</td>\n",
       "      <td>010</td>\n",
       "      <td>8</td>\n",
       "      <td>NoStutteredWords</td>\n",
       "    </tr>\n",
       "    <tr>\n",
       "      <th>4</th>\n",
       "      <td>FluencyBank</td>\n",
       "      <td>010</td>\n",
       "      <td>13</td>\n",
       "      <td>NoStutteredWords</td>\n",
       "    </tr>\n",
       "  </tbody>\n",
       "</table>\n",
       "</div>"
      ],
      "text/plain": [
       "          Show EpId ClipId                 y\n",
       "0  FluencyBank  010      1  NoStutteredWords\n",
       "1  FluencyBank  010      4               Rep\n",
       "2  FluencyBank  010      6  NoStutteredWords\n",
       "3  FluencyBank  010      8  NoStutteredWords\n",
       "4  FluencyBank  010     13  NoStutteredWords"
      ]
     },
     "execution_count": 2,
     "metadata": {},
     "output_type": "execute_result"
    }
   ],
   "source": [
    "df = pd.read_csv('data/ground_truth_clip_labels.csv', dtype=str)\n",
    "\n",
    "df.head()"
   ]
  },
  {
   "cell_type": "code",
   "execution_count": 3,
   "metadata": {},
   "outputs": [
    {
     "name": "stdout",
     "output_type": "stream",
     "text": [
      "Class Label Mapping: {0: 'NoStutteredWords', 1: 'Rep', 2: 'Interjection', 3: 'Prolongation', 4: 'Unsure', 5: 'Block', 6: 'NoSpeech'}\n"
     ]
    }
   ],
   "source": [
    "# Create the 'relative_path' column\n",
    "df['relative_path'] = 'data/clips/' + df['Show'] + '_' + df['EpId'] + '_' + df['ClipId'] + '.wav'\n",
    "\n",
    "# Convert the class labels to numbers and create a mapping\n",
    "df['classID'], class_labels = pd.factorize(df['y'])\n",
    "\n",
    "# Save the transformed DataFrame to a new CSV file\n",
    "df[['relative_path', 'classID']].to_csv(\"data/ground_truth.csv\", index=False)\n",
    "\n",
    "# Print the mapping of numbers to class labels\n",
    "label_mapping = dict(enumerate(class_labels))\n",
    "print(\"Class Label Mapping:\", label_mapping)"
   ]
  },
  {
   "cell_type": "markdown",
   "metadata": {},
   "source": [
    "### Class Label Mapping: {0: 'NoStutteredWords', 1: 'Rep', 2: 'Interjection', 3: 'Prolongation', 4: 'Unsure', 5: 'Block', 6: 'NoSpeech'}"
   ]
  }
 ],
 "metadata": {
  "kernelspec": {
   "display_name": "v1",
   "language": "python",
   "name": "python3"
  },
  "language_info": {
   "codemirror_mode": {
    "name": "ipython",
    "version": 3
   },
   "file_extension": ".py",
   "mimetype": "text/x-python",
   "name": "python",
   "nbconvert_exporter": "python",
   "pygments_lexer": "ipython3",
   "version": "3.12.3"
  }
 },
 "nbformat": 4,
 "nbformat_minor": 2
}
